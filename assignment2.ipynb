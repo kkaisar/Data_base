{
  "nbformat": 4,
  "nbformat_minor": 0,
  "metadata": {
    "colab": {
      "provenance": [],
      "authorship_tag": "ABX9TyN56J0OliqAXQN3ZClK+o0s",
      "include_colab_link": true
    },
    "kernelspec": {
      "name": "python3",
      "display_name": "Python 3"
    },
    "language_info": {
      "name": "python"
    }
  },
  "cells": [
    {
      "cell_type": "markdown",
      "metadata": {
        "id": "view-in-github",
        "colab_type": "text"
      },
      "source": [
        "<a href=\"https://colab.research.google.com/github/kkaisar/Data_base/blob/main/assignment2.ipynb\" target=\"_parent\"><img src=\"https://colab.research.google.com/assets/colab-badge.svg\" alt=\"Open In Colab\"/></a>"
      ]
    },
    {
      "cell_type": "code",
      "execution_count": 4,
      "metadata": {
        "colab": {
          "base_uri": "https://localhost:8080/"
        },
        "id": "m_SQaxIpdFDl",
        "outputId": "28db040f-cacf-4993-b1b1-84e13eedf153"
      },
      "outputs": [
        {
          "output_type": "stream",
          "name": "stdout",
          "text": [
            "  most_frequent_user highest_rated_movie_in_february\n",
            "0             Daniel                        Frozen 2\n"
          ]
        }
      ],
      "source": [
        "import pandas as pd\n",
        "\n",
        "data = [[1, 'Avengers'], [2, 'Frozen 2'], [3, 'Joker']]\n",
        "movies = pd.DataFrame(data, columns=['movie_id', 'title']).astype({'movie_id':'Int64', 'title':'object'})\n",
        "\n",
        "data = [[1, 'Daniel'], [2, 'Monica'], [3, 'Maria'], [4, 'James']]\n",
        "users = pd.DataFrame(data, columns=['user_id', 'name']).astype({'user_id':'Int64', 'name':'object'})\n",
        "\n",
        "data = [\n",
        "    [1, 1, 3, '2020-01-12'], [1, 2, 4, '2020-02-11'], [1, 3, 2, '2020-02-12'],\n",
        "    [1, 4, 1, '2020-01-01'], [2, 1, 5, '2020-02-17'], [2, 2, 2, '2020-02-01'],\n",
        "    [2, 3, 2, '2020-03-01'], [3, 1, 3, '2020-02-22'], [3, 2, 4, '2020-02-25']\n",
        "]\n",
        "movie_rating = pd.DataFrame(data, columns=['movie_id', 'user_id', 'rating', 'created_at']).astype({\n",
        "    'movie_id':'Int64', 'user_id':'Int64', 'rating':'Int64', 'created_at':'datetime64[ns]'\n",
        "})\n",
        "\n",
        "def movie_rating_analysis(movies: pd.DataFrame, users: pd.DataFrame, movie_rating: pd.DataFrame) -> pd.DataFrame:\n",
        "\n",
        "    merged_data = movie_rating.merge(users, on='user_id', how='left').merge(movies, on='movie_id', how='left')\n",
        "\n",
        "    frequent_rater = merged_data['name'].value_counts()\n",
        "    most_frequent_user = frequent_rater[frequent_rater == frequent_rater.max()].sort_index(ascending=True).index[0]\n",
        "\n",
        "    february_ratings = merged_data[\n",
        "        (merged_data['created_at'] >= '2020-02-01') & (merged_data['created_at'] <= '2020-02-29')\n",
        "    ]\n",
        "\n",
        "    avg_ratings = february_ratings.groupby('title').agg({'rating': 'mean'}).reset_index()\n",
        "\n",
        "    highest_rated_movie = avg_ratings[avg_ratings['rating'] == avg_ratings['rating'].max()]\n",
        "    highest_rated_movie_title = highest_rated_movie.sort_values(by='title', ascending=True)['title'].iloc[0]\n",
        "\n",
        "    return pd.DataFrame({\n",
        "        'most_frequent_user': [most_frequent_user],\n",
        "        'highest_rated_movie_in_february': [highest_rated_movie_title]\n",
        "    })\n",
        "\n",
        "result = movie_rating_analysis(movies, users, movie_rating)\n",
        "print(result)\n"
      ]
    },
    {
      "cell_type": "code",
      "source": [
        "import pandas as pd\n",
        "import numpy as np\n",
        "\n",
        "def capital_gainloss(stocks: pd.DataFrame) -> pd.DataFrame:\n",
        "\n",
        "    stocks[\"capital_gain_loss\"] = np.where(stocks[\"operation\"] == 'Buy', -stocks[\"price\"], stocks[\"price\"])\n",
        "\n",
        "    return stocks.groupby(by=\"stock_name\", as_index=False).capital_gain_loss.sum()\n",
        "\n",
        "data = [\n",
        "    ['Leetcode', 'Buy', 1, 1000],\n",
        "    ['Corona Masks', 'Buy', 2, 10],\n",
        "    ['Leetcode', 'Sell', 5, 9000],\n",
        "    ['Handbags', 'Buy', 17, 30000],\n",
        "    ['Corona Masks', 'Sell', 3, 1010],\n",
        "    ['Corona Masks', 'Buy', 4, 1000],\n",
        "    ['Corona Masks', 'Sell', 5, 500],\n",
        "    ['Corona Masks', 'Buy', 6, 1000],\n",
        "    ['Handbags', 'Sell', 29, 7000],\n",
        "    ['Corona Masks', 'Sell', 10, 10000]\n",
        "]\n",
        "stocks = pd.DataFrame(data, columns=['stock_name', 'operation', 'operation_day', 'price']).astype({\n",
        "    'stock_name': 'object', 'operation': 'object', 'operation_day': 'Int64', 'price': 'Int64'\n",
        "})\n",
        "\n",
        "result = capital_gainloss(stocks)\n",
        "print(result)\n"
      ],
      "metadata": {
        "colab": {
          "base_uri": "https://localhost:8080/"
        },
        "id": "cbBnaP1IfYfu",
        "outputId": "7522f2d8-cd52-48a9-995d-751201565d0d"
      },
      "execution_count": 5,
      "outputs": [
        {
          "output_type": "stream",
          "name": "stdout",
          "text": [
            "     stock_name  capital_gain_loss\n",
            "0  Corona Masks               9500\n",
            "1      Handbags             -23000\n",
            "2      Leetcode               8000\n"
          ]
        }
      ]
    },
    {
      "cell_type": "code",
      "source": [
        "import pandas as pd\n",
        "\n",
        "data = [[1, 100], [2, 200], [3, 300]]\n",
        "employee = pd.DataFrame(data, columns=['id', 'salary']).astype({'id': 'int64', 'salary': 'int64'})\n",
        "\n",
        "def second_highest_salary(employee: pd.DataFrame) -> pd.DataFrame:\n",
        "\n",
        "    employee.drop_duplicates(subset=[\"salary\"], inplace=True)\n",
        "    if employee.shape[0] < 2:\n",
        "        return pd.DataFrame([[None]], columns=[\"SecondHighestSalary\"])\n",
        "\n",
        "    employee.sort_values(by=\"salary\", inplace=True, ascending=False)\n",
        "    employee = employee[[\"salary\"]].rename(columns={\"salary\": \"SecondHighestSalary\"})\n",
        "    return employee.iloc[1:2]\n",
        "result = second_highest_salary(employee)\n",
        "print(result)\n"
      ],
      "metadata": {
        "colab": {
          "base_uri": "https://localhost:8080/"
        },
        "id": "WZwtAowKhVRX",
        "outputId": "f1f623a6-d5d4-4658-d0f4-df46fa7278fc"
      },
      "execution_count": 6,
      "outputs": [
        {
          "output_type": "stream",
          "name": "stdout",
          "text": [
            "   SecondHighestSalary\n",
            "1                  200\n"
          ]
        }
      ]
    }
  ]
}